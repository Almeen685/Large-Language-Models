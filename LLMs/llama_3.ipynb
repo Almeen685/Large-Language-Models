{
 "cells": [
  {
   "cell_type": "code",
   "execution_count": 1,
   "metadata": {},
   "outputs": [
    {
     "name": "stdout",
     "output_type": "stream",
     "text": [
      "Collecting groq\n",
      "  Downloading groq-0.12.0-py3-none-any.whl.metadata (13 kB)\n",
      "Requirement already satisfied: anyio<5,>=3.5.0 in c:\\users\\pc\\anaconda3\\lib\\site-packages (from groq) (4.2.0)\n",
      "Requirement already satisfied: distro<2,>=1.7.0 in c:\\users\\pc\\anaconda3\\lib\\site-packages (from groq) (1.8.0)\n",
      "Collecting httpx<1,>=0.23.0 (from groq)\n",
      "  Using cached httpx-0.27.2-py3-none-any.whl.metadata (7.1 kB)\n",
      "Requirement already satisfied: pydantic<3,>=1.9.0 in c:\\users\\pc\\anaconda3\\lib\\site-packages (from groq) (1.10.12)\n",
      "Requirement already satisfied: sniffio in c:\\users\\pc\\anaconda3\\lib\\site-packages (from groq) (1.3.0)\n",
      "Requirement already satisfied: typing-extensions<5,>=4.7 in c:\\users\\pc\\anaconda3\\lib\\site-packages (from groq) (4.9.0)\n",
      "Requirement already satisfied: idna>=2.8 in c:\\users\\pc\\anaconda3\\lib\\site-packages (from anyio<5,>=3.5.0->groq) (3.4)\n",
      "Requirement already satisfied: certifi in c:\\users\\pc\\anaconda3\\lib\\site-packages (from httpx<1,>=0.23.0->groq) (2024.2.2)\n",
      "Collecting httpcore==1.* (from httpx<1,>=0.23.0->groq)\n",
      "  Using cached httpcore-1.0.6-py3-none-any.whl.metadata (21 kB)\n",
      "Collecting h11<0.15,>=0.13 (from httpcore==1.*->httpx<1,>=0.23.0->groq)\n",
      "  Using cached h11-0.14.0-py3-none-any.whl.metadata (8.2 kB)\n",
      "Downloading groq-0.12.0-py3-none-any.whl (108 kB)\n",
      "   ---------------------------------------- 0.0/108.9 kB ? eta -:--:--\n",
      "   --- ------------------------------------ 10.2/108.9 kB ? eta -:--:--\n",
      "   --- ------------------------------------ 10.2/108.9 kB ? eta -:--:--\n",
      "   ----------- --------------------------- 30.7/108.9 kB 325.1 kB/s eta 0:00:01\n",
      "   ---------------------- ---------------- 61.4/108.9 kB 363.1 kB/s eta 0:00:01\n",
      "   ----------------------------------- -- 102.4/108.9 kB 490.2 kB/s eta 0:00:01\n",
      "   -------------------------------------- 108.9/108.9 kB 419.6 kB/s eta 0:00:00\n",
      "Downloading httpx-0.27.2-py3-none-any.whl (76 kB)\n",
      "   ---------------------------------------- 0.0/76.4 kB ? eta -:--:--\n",
      "   ------------------------------------- -- 71.7/76.4 kB 1.9 MB/s eta 0:00:01\n",
      "   ---------------------------------------- 76.4/76.4 kB 1.1 MB/s eta 0:00:00\n",
      "Downloading httpcore-1.0.6-py3-none-any.whl (78 kB)\n",
      "   ---------------------------------------- 0.0/78.0 kB ? eta -:--:--\n",
      "   ------------------------------------ --- 71.7/78.0 kB 3.8 MB/s eta 0:00:01\n",
      "   ---------------------------------------- 78.0/78.0 kB 1.1 MB/s eta 0:00:00\n",
      "Downloading h11-0.14.0-py3-none-any.whl (58 kB)\n",
      "   ---------------------------------------- 0.0/58.3 kB ? eta -:--:--\n",
      "   ----------------------------------- ---- 51.2/58.3 kB 2.6 MB/s eta 0:00:01\n",
      "   ---------------------------------------- 58.3/58.3 kB 1.0 MB/s eta 0:00:00\n",
      "Installing collected packages: h11, httpcore, httpx, groq\n",
      "Successfully installed groq-0.12.0 h11-0.14.0 httpcore-1.0.6 httpx-0.27.2\n",
      "Requirement already satisfied: python-dotenv in c:\\users\\pc\\anaconda3\\lib\\site-packages (0.21.0)\n"
     ]
    }
   ],
   "source": [
    "!pip install groq\n",
    "!pip install python-dotenv"
   ]
  },
  {
   "cell_type": "code",
   "execution_count": 2,
   "metadata": {},
   "outputs": [],
   "source": [
    "import os\n",
    "from dotenv import load_dotenv\n",
    "from groq import Groq"
   ]
  },
  {
   "cell_type": "code",
   "execution_count": 9,
   "metadata": {},
   "outputs": [
    {
     "data": {
      "text/plain": [
       "True"
      ]
     },
     "execution_count": 9,
     "metadata": {},
     "output_type": "execute_result"
    }
   ],
   "source": [
    "# Load environment variables from the .env file\n",
    "load_dotenv(r\"C:\\Users\\pc\\Desktop\\LLMs\\data.env\")"
   ]
  },
  {
   "cell_type": "markdown",
   "metadata": {},
   "source": [
    "Let's make client which will be our gateway for requests to api. "
   ]
  },
  {
   "cell_type": "code",
   "execution_count": 10,
   "metadata": {},
   "outputs": [],
   "source": [
    "import os\n",
    "api_key=os.environ.get(\"GROQ_API_KEY\")"
   ]
  },
  {
   "cell_type": "code",
   "execution_count": 11,
   "metadata": {},
   "outputs": [
    {
     "data": {
      "text/plain": [
       "'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'"
      ]
     },
     "execution_count": 11,
     "metadata": {},
     "output_type": "execute_result"
    }
   ],
   "source": [
    "api_key"
   ]
  },
  {
   "cell_type": "code",
   "execution_count": 12,
   "metadata": {},
   "outputs": [],
   "source": [
    "from groq import Groq\n",
    "client = Groq(api_key=api_key)"
   ]
  },
  {
   "cell_type": "code",
   "execution_count": 14,
   "metadata": {},
   "outputs": [],
   "source": [
    "chat_completion = client.chat.completions.create(\n",
    "    messages=[\n",
    "        {\n",
    "            \"role\": \"user\",\n",
    "            \"content\": \"where pakistan is located\",\n",
    "        }\n",
    "    ],\n",
    "    model=\"llama-3.2-3b-preview\",\n",
    ")"
   ]
  },
  {
   "cell_type": "code",
   "execution_count": 15,
   "metadata": {},
   "outputs": [
    {
     "name": "stdout",
     "output_type": "stream",
     "text": [
      "Pakistan is located in South Asia. It is bounded by the following countries:\n",
      "\n",
      "* To the west: Iran and Afghanistan\n",
      "* To the northwest: China (via the Wakhan Corridor)\n",
      "* To the north: China (via the Karakoram Highway) and India (via the Line of Control in the disputed region of Kashmir)\n",
      "* To the east: India\n",
      "* To the southeast: the Indian Ocean\n",
      "* To the south: the Arabian Sea\n",
      "\n",
      "Pakistan shares a 580-kilometer (360-mile) border with India and a 909-kilometer (565-mile) border with China.\n",
      "\n",
      "Geographically, Pakistan is a country of diverse terrain, featuring:\n",
      "\n",
      "* The Himalayas to the northeast\n",
      "* The Karakoram range to the northwest\n",
      "* The Punjab plains to the east\n",
      "* The Indus River valley to the southwest\n",
      "* The Arabian Sea coastline to the south\n",
      "\n",
      "Pakistan is the world's 5th most populous country, with a total area of approximately 796,095 square kilometers (307,374 square miles).\n"
     ]
    }
   ],
   "source": [
    "print(chat_completion.choices[0].message.content)"
   ]
  },
  {
   "cell_type": "code",
   "execution_count": 16,
   "metadata": {},
   "outputs": [
    {
     "name": "stdout",
     "output_type": "stream",
     "text": [
      "Trees are considered essential for many reasons. Here are some of the most important ones:\n",
      "\n",
      "1. **Oxygen Production**: Trees produce oxygen as a byproduct of photosynthesis, which is essential for human and animal life. They produce enough oxygen to support the entire food chain.\n",
      "2. **Carbon Sequestration**: Trees absorb carbon dioxide from the atmosphere, which helps to reduce the amount of greenhouse gases and slow down climate change.\n",
      "3. **Soil Erosion Prevention**: Tree roots hold soil in place, preventing erosion and landslides, and maintaining soil quality.\n",
      "4. **Wildlife Habitat**: Trees provide food, shelter, and habitat for countless species of animals, birds, and insects.\n",
      "5. **Climate Regulation**: Trees help regulate the climate by providing shade, cooling the air through evapotranspiration, and blocking winds.\n",
      "6. **Water Cycle**: Trees play a crucial role in the water cycle by absorbing and storing water, which helps to maintain water tables and prevent floods.\n",
      "7. **Air Purification**: Trees absorb pollutants such as particulate matter, ozone, and nitrogen dioxide from the air, improving air quality.\n",
      "8. **Noise Reduction**: Trees can act as a natural sound barrier, reducing noise pollution and creating a more peaceful environment.\n",
      "9. **Mental Health**: Spending time in nature, surrounded by trees, has been shown to have a positive impact on mental health and well-being.\n",
      "10. **Economic Benefits**: Trees provide timber, fuelwood, and non-timber forest products, which are essential for human livelihoods and economies.\n",
      "11. **Soil Fertility**: Tree roots help to improve soil fertility by adding organic matter and nutrients.\n",
      "12. **Biodiversity**: Trees support biodiversity by providing habitat for a wide range of plant and animal species.\n",
      "\n",
      "Overall, trees are essential for maintaining a healthy, balanced, and thriving planet.None"
     ]
    }
   ],
   "source": [
    "from groq import Groq\n",
    "\n",
    "client = Groq(api_key=os.environ.get(\"GROQ_API_KEY\"))\n",
    "\n",
    "stream = client.chat.completions.create(\n",
    "    # Required parameters\n",
    "    messages=[\n",
    "        # Set an optional system message. This sets the behavior of the\n",
    "        # assistant and can be used to provide specific instructions for\n",
    "        # how it should behave throughout the conversation.\n",
    "        {\n",
    "            \"role\": \"system\",\n",
    "            \"content\": '''Trees are essential, towering plants that play a vital role in sustaining life on Earth\n",
    "            . With deep roots anchoring them to the soil, they provide oxygen, absorb carbon dioxide, and offer\n",
    "              shelter and food for countless species. Trees come in various shapes and sizes, from towering redwoods \n",
    "              to small fruit trees, and are found in diverse ecosystems worldwide. Beyond their environmental importance,\n",
    "                trees have cultural, aesthetic, and economic value, supplying materials like wood and paper, and enhancing landscapes.\n",
    "                  By preserving trees, we help maintain biodiversity and a balanced, healthy planet..'''\n",
    "        },\n",
    "\n",
    "        \n",
    "        # Set a user message for the assistant to respond to.\n",
    "        {\n",
    "            \"role\": \"user\",\n",
    "            \"content\": \"why trees are essentials?\",\n",
    "        }\n",
    "    ],\n",
    "\n",
    "    # The language model which will generate the completion.\n",
    "    model=\"llama3-8b-8192\",\n",
    "\n",
    "    # Controls randomness: lowering results in less random completions.\n",
    "    # As the temperature approaches zero, the model will become deterministic\n",
    "    # and repetitive.\n",
    "    temperature=0.5,\n",
    "\n",
    "    # The maximum number of tokens to generate. Requests can use up to\n",
    "    # 2048 tokens shared between prompt and completion.\n",
    "    max_tokens=1024,\n",
    "\n",
    "    # A stop sequence is a predefined or user-specified text string that\n",
    "    # signals an AI to stop generating content, ensuring its responses\n",
    "    # remain focused and concise. Examples include punctuation marks and\n",
    "    # markers like \"[end]\".\n",
    "    stop=None,\n",
    "\n",
    "    # If set, partial message deltas will be sent.\n",
    "    stream=True,\n",
    ")\n",
    "\n",
    "# Print the incremental deltas returned by the LLM.\n",
    "for chunk in stream:\n",
    "    print(chunk.choices[0].delta.content, end=\"\")"
   ]
  },
  {
   "cell_type": "code",
   "execution_count": 20,
   "metadata": {},
   "outputs": [
    {
     "name": "stdout",
     "output_type": "stream",
     "text": [
      "\n",
      "import pandas as pd\n",
      "import numpy as np\n",
      "\n",
      "def find_missing_values(file_path):\n",
      "    # Read the CSV file\n",
      "    df = pd.read_csv(file_path)\n",
      "\n",
      "    # Find missing values in each column\n",
      "    for column in df.columns:\n",
      "        missing_count = df[column].isnull().sum()\n",
      "        if missing_count > 0:\n",
      "            print(f\"Column '{column}' has {missing_count} missing values.\")\n",
      "        else:\n",
      "            print(f\"Column '{column}' has no missing values.\")\n",
      "\n",
      "    # Count total missing values in the entire dataframe\n",
      "    total_missing = df.isnull().sum().sum()\n",
      "    print(f\"Total missing values in the dataframe: {total_missing}\")\n",
      "\n",
      "# Run the function with a sample CSV file\n",
      "find_missing_values('data.csv')\n"
     ]
    }
   ],
   "source": [
    "from groq import Groq\n",
    "\n",
    "client = Groq(api_key=os.environ.get(\"GROQ_API_KEY\"))\n",
    "completion = client.chat.completions.create(\n",
    "    model=\"llama3-70b-8192\",\n",
    "    messages=[\n",
    "        {\n",
    "            # Provides initial instructions or context to set the assistant's behavior. This can guide the assistant on how it should respond throughout the conversation.\n",
    "            \"role\": \"system\",\n",
    "            \"content\": \"You are a computer programing assitant.\"\n",
    "        },\n",
    "        {\n",
    "            # Represents messages from the user asking questions or making requests\n",
    "            \"role\": \"user\",\n",
    "            \"content\": \"Write a python program to find missing values in csv file format.\"\n",
    "        },\n",
    "        {\n",
    "            # used to predefine what the assistant should return in response to the user's query.\n",
    "            \"role\": \"assistant\",\n",
    "            \"content\": \"```python\"\n",
    "        }\n",
    "    ],\n",
    "    stop=\"```\",\n",
    ")\n",
    "\n",
    "print(completion.choices[0].message.content or \"\", end=\"\")"
   ]
  }
 ],
 "metadata": {
  "kernelspec": {
   "display_name": "base",
   "language": "python",
   "name": "python3"
  },
  "language_info": {
   "codemirror_mode": {
    "name": "ipython",
    "version": 3
   },
   "file_extension": ".py",
   "mimetype": "text/x-python",
   "name": "python",
   "nbconvert_exporter": "python",
   "pygments_lexer": "ipython3",
   "version": "3.11.7"
  }
 },
 "nbformat": 4,
 "nbformat_minor": 2
}
